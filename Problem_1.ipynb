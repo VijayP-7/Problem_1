{
 "cells": [
  {
   "cell_type": "markdown",
   "id": "fb6e88a0",
   "metadata": {},
   "source": [
    "# Question 1:-"
   ]
  },
  {
   "cell_type": "code",
   "execution_count": 8,
   "id": "b9af7321",
   "metadata": {},
   "outputs": [
    {
     "name": "stdout",
     "output_type": "stream",
     "text": [
      "4\n",
      "great hello hiyo abc\n",
      "The sorted list is :\n",
      "['great', 'abc', 'hello', 'hiyo']\n"
     ]
    }
   ],
   "source": [
    "num = int(input())\n",
    "list1 = list(map(str, input().lower().split()))\n",
    "for ele in list1:\n",
    "    if len(ele) >= 2:\n",
    "        list1.sort(key = lambda x: x[-2])\n",
    "        print('The sorted list is :')\n",
    "        print(list1)\n",
    "        break\n",
    "    else:\n",
    "        print('The length of the string in given list is less than 1')\n",
    "        break"
   ]
  }
 ],
 "metadata": {
  "kernelspec": {
   "display_name": "Python 3 (ipykernel)",
   "language": "python",
   "name": "python3"
  },
  "language_info": {
   "codemirror_mode": {
    "name": "ipython",
    "version": 3
   },
   "file_extension": ".py",
   "mimetype": "text/x-python",
   "name": "python",
   "nbconvert_exporter": "python",
   "pygments_lexer": "ipython3",
   "version": "3.9.12"
  }
 },
 "nbformat": 4,
 "nbformat_minor": 5
}
